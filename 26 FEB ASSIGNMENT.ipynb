{
 "cells": [
  {
   "cell_type": "markdown",
   "id": "25da0fb1-ccee-4e55-ac04-cff2f4695742",
   "metadata": {},
   "source": [
    " FEB 26 ASSIGNMENT"
   ]
  },
  {
   "cell_type": "markdown",
   "id": "965359be-d1c5-4c26-b6ca-b660dadcd544",
   "metadata": {},
   "source": [
    "Q.1 Consider the below code to answer further questions.\n",
    "import numpy as np\n",
    "list_=['1','2','3','4','5']\n",
    "array_list=np.array(object=list_)\n",
    " Is there any difference in the data type of variables list_ and array_list ? \n",
    "If there is then write a code to print the data types of both the variables."
   ]
  },
  {
   "cell_type": "code",
   "execution_count": 12,
   "id": "e01adc04-9713-4413-a543-1ca6b9eba896",
   "metadata": {},
   "outputs": [],
   "source": [
    "import numpy as np"
   ]
  },
  {
   "cell_type": "code",
   "execution_count": 4,
   "id": "6373e534-7e8f-47c5-9bf7-19f420ed66aa",
   "metadata": {},
   "outputs": [],
   "source": [
    "list_=['1','2','3','4','5']"
   ]
  },
  {
   "cell_type": "code",
   "execution_count": 5,
   "id": "dc789081-2345-4a2c-bdcc-39eff3bebfd2",
   "metadata": {},
   "outputs": [],
   "source": [
    "array_list=np.array(object=list_)"
   ]
  },
  {
   "cell_type": "code",
   "execution_count": 7,
   "id": "d69deca8-63dd-47f5-a55e-25210c28b191",
   "metadata": {},
   "outputs": [],
   "source": [
    "x=type(list_)"
   ]
  },
  {
   "cell_type": "code",
   "execution_count": 8,
   "id": "6005ac80-8913-4495-b3f2-e6a0569e8c4e",
   "metadata": {},
   "outputs": [
    {
     "data": {
      "text/plain": [
       "list"
      ]
     },
     "execution_count": 8,
     "metadata": {},
     "output_type": "execute_result"
    }
   ],
   "source": [
    "x"
   ]
  },
  {
   "cell_type": "code",
   "execution_count": 14,
   "id": "056f1ab8-6f1a-48a8-8657-96d5822cb52f",
   "metadata": {},
   "outputs": [],
   "source": [
    "y=type(array_list)"
   ]
  },
  {
   "cell_type": "code",
   "execution_count": 15,
   "id": "0fe897c0-f8d9-446b-82ba-18d1597a5437",
   "metadata": {},
   "outputs": [
    {
     "data": {
      "text/plain": [
       "numpy.ndarray"
      ]
     },
     "execution_count": 15,
     "metadata": {},
     "output_type": "execute_result"
    }
   ],
   "source": [
    "y"
   ]
  },
  {
   "cell_type": "markdown",
   "id": "0b55c42d-0491-4066-9461-c7930d4619b1",
   "metadata": {},
   "source": [
    "Q.2 Considering the following changes in the variable, array_list:\n",
    "           array_list=np.array(object=list_, dtype=int)\n",
    "Will there be any difference in the data type of the elements present in both the variables, list_ and\n",
    "arra_list? If so then print the data types of each and every element present in both the variables, list_\n",
    "and arra_list."
   ]
  },
  {
   "cell_type": "code",
   "execution_count": 16,
   "id": "50d3afaa-51c6-4eaf-b2ea-a14d2d4df1f4",
   "metadata": {},
   "outputs": [],
   "source": [
    "array_list=np.array(object=list_, dtype=int)"
   ]
  },
  {
   "cell_type": "code",
   "execution_count": 17,
   "id": "a5ac199c-9c16-4990-806d-c6f4f5c296c7",
   "metadata": {},
   "outputs": [
    {
     "data": {
      "text/plain": [
       "array([1, 2, 3, 4, 5])"
      ]
     },
     "execution_count": 17,
     "metadata": {},
     "output_type": "execute_result"
    }
   ],
   "source": [
    "array_list"
   ]
  },
  {
   "cell_type": "code",
   "execution_count": null,
   "id": "a559a80c-42a7-454d-8b93-2352fffa50bc",
   "metadata": {},
   "outputs": [],
   "source": [
    "data type of list=type(list_)\n",
    "data type of arra_list=type(arra_list)\n"
   ]
  },
  {
   "cell_type": "code",
   "execution_count": null,
   "id": "2f779e39-fbc3-435d-bd63-0f4ac8f65770",
   "metadata": {},
   "outputs": [],
   "source": []
  },
  {
   "cell_type": "markdown",
   "id": "7c491d69-bc5c-4aa3-a1ed-0adc68dd8b8e",
   "metadata": {},
   "source": [
    "Q.3 Consider the below code to answer further questions.\n",
    "num_list=[[1,2,3],[4,5,6]]\n",
    "num_array=np.array(object=num_list)"
   ]
  },
  {
   "cell_type": "code",
   "execution_count": 19,
   "id": "b5063ba2-ff39-4232-9166-08a5f136f2a5",
   "metadata": {},
   "outputs": [],
   "source": [
    "import numpy as np\n"
   ]
  },
  {
   "cell_type": "code",
   "execution_count": 20,
   "id": "164edd4a-3a6c-4ec4-b2b3-69d2166a47f6",
   "metadata": {},
   "outputs": [],
   "source": [
    "num_list=[[1,2,3],[4,5,6]]"
   ]
  },
  {
   "cell_type": "code",
   "execution_count": 22,
   "id": "2563c49a-dd20-4c66-b1e3-43b90143ca64",
   "metadata": {},
   "outputs": [],
   "source": [
    "num_array=np.array(object=num_list)"
   ]
  },
  {
   "cell_type": "code",
   "execution_count": 23,
   "id": "0f549855-183c-4e33-a5f5-328875e087a6",
   "metadata": {},
   "outputs": [
    {
     "data": {
      "text/plain": [
       "array([[1, 2, 3],\n",
       "       [4, 5, 6]])"
      ]
     },
     "execution_count": 23,
     "metadata": {},
     "output_type": "execute_result"
    }
   ],
   "source": [
    "num_array"
   ]
  },
  {
   "cell_type": "code",
   "execution_count": null,
   "id": "5d763da3-3322-44d2-af51-a0241c61cd69",
   "metadata": {},
   "outputs": [],
   "source": []
  },
  {
   "cell_type": "markdown",
   "id": "fb3b6b0d-f9bd-4691-a71e-2d9645416423",
   "metadata": {},
   "source": [
    "Q.4 Write a code to find the following characteristics of variablr,num_array:"
   ]
  },
  {
   "cell_type": "markdown",
   "id": "27df65ae-afd0-43d7-bb1d-e15407df5355",
   "metadata": {},
   "source": [
    "answer---\n",
    "shape:\n",
    "    l=[1,2,3,4,5]\n",
    "    num_array=np.array(l)\n",
    "    num_shape=num_array.shape\n",
    "    \n",
    "size:\n",
    "    num_size=num_array.size"
   ]
  },
  {
   "cell_type": "code",
   "execution_count": null,
   "id": "f2a4d02a-1e39-4fcc-8423-646a196c224b",
   "metadata": {},
   "outputs": [],
   "source": []
  },
  {
   "cell_type": "markdown",
   "id": "afbc9784-d9c8-4544-a2d1-df5019edaea9",
   "metadata": {},
   "source": [
    "Q.5 Write a code to creat numpy array of 3*3 matrix containng zeros only, using a numpy array creation function"
   ]
  },
  {
   "cell_type": "code",
   "execution_count": 26,
   "id": "5ae3f5ac-6e54-4f60-8f06-369f0936ecd2",
   "metadata": {},
   "outputs": [
    {
     "data": {
      "text/plain": [
       "array([[0., 0., 0.],\n",
       "       [0., 0., 0.],\n",
       "       [0., 0., 0.]])"
      ]
     },
     "execution_count": 26,
     "metadata": {},
     "output_type": "execute_result"
    }
   ],
   "source": [
    "np.zeros((3,3))"
   ]
  },
  {
   "cell_type": "code",
   "execution_count": null,
   "id": "71335384-19bb-4dac-91c3-fc34b7b27f79",
   "metadata": {},
   "outputs": [],
   "source": []
  },
  {
   "cell_type": "markdown",
   "id": "c6ccb26c-db52-4f44-a478-ea25538db8a5",
   "metadata": {},
   "source": [
    "Q.6 Creat a identity matrix of shape (5,5) using numpy function?"
   ]
  },
  {
   "cell_type": "code",
   "execution_count": 27,
   "id": "84fbe7c7-2089-47fe-b46a-6bbfa5439307",
   "metadata": {},
   "outputs": [
    {
     "data": {
      "text/plain": [
       "array([[1., 0., 0., 0., 0.],\n",
       "       [0., 1., 0., 0., 0.],\n",
       "       [0., 0., 1., 0., 0.],\n",
       "       [0., 0., 0., 1., 0.],\n",
       "       [0., 0., 0., 0., 1.]])"
      ]
     },
     "execution_count": 27,
     "metadata": {},
     "output_type": "execute_result"
    }
   ],
   "source": [
    "np.eye(5,5)"
   ]
  },
  {
   "cell_type": "code",
   "execution_count": null,
   "id": "3f005fc7-7358-4880-a439-fd517bdcc90f",
   "metadata": {},
   "outputs": [],
   "source": []
  }
 ],
 "metadata": {
  "kernelspec": {
   "display_name": "Python 3 (ipykernel)",
   "language": "python",
   "name": "python3"
  },
  "language_info": {
   "codemirror_mode": {
    "name": "ipython",
    "version": 3
   },
   "file_extension": ".py",
   "mimetype": "text/x-python",
   "name": "python",
   "nbconvert_exporter": "python",
   "pygments_lexer": "ipython3",
   "version": "3.10.8"
  }
 },
 "nbformat": 4,
 "nbformat_minor": 5
}
